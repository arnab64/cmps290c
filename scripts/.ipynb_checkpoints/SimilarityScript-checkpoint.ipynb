{
 "cells": [
  {
   "cell_type": "code",
   "execution_count": 1,
   "metadata": {},
   "outputs": [],
   "source": [
    "import numpy as np\n",
    "import pandas as pd\n",
    "import json\n",
    "\n",
    "df = pd.read_csv(\"final.csv\")\n",
    "ff1=pd.DataFrame(df)    \n",
    "\n",
    "value=''\n",
    "value2=''\n",
    "count=0\n",
    "\n",
    "for line1,line in df.iterrows(): \n",
    "    if (line['author']==value)& (line['subreddit_id']==value2):\n",
    "        count=count+1\n",
    "        value=line['author']\n",
    "        value2=line['subreddit_id']\n",
    "        df.loc[(df['author'] == value) & (df['subreddit_id'] == value2),value2] = count\n",
    "    else:\n",
    "        value=line['author']\n",
    "        value2=line['subreddit_id']\n",
    "        count=1\n",
    "        df.loc[(df['author'] == value) & (df['subreddit_id'] == value2),value2] = count"
   ]
  },
  {
   "cell_type": "code",
   "execution_count": 33,
   "metadata": {},
   "outputs": [],
   "source": [
    "df.to_csv(\"lo1.csv\")"
   ]
  },
  {
   "cell_type": "code",
   "execution_count": 34,
   "metadata": {
    "collapsed": true
   },
   "outputs": [],
   "source": [
    "df2 = pd.read_csv(\"lo1.csv\")\n",
    "   "
   ]
  },
  {
   "cell_type": "code",
   "execution_count": 45,
   "metadata": {},
   "outputs": [],
   "source": [
    "df2=df2.drop_duplicates(subset=['author', 'subreddit_id'])"
   ]
  },
  {
   "cell_type": "code",
   "execution_count": 47,
   "metadata": {},
   "outputs": [],
   "source": [
    "df2.to_csv(\"lo3.csv\")"
   ]
  },
  {
   "cell_type": "code",
   "execution_count": null,
   "metadata": {
    "collapsed": true
   },
   "outputs": [],
   "source": []
  }
 ],
 "metadata": {
  "kernelspec": {
   "display_name": "Python 3",
   "language": "python",
   "name": "python3"
  },
  "language_info": {
   "codemirror_mode": {
    "name": "ipython",
    "version": 3
   },
   "file_extension": ".py",
   "mimetype": "text/x-python",
   "name": "python",
   "nbconvert_exporter": "python",
   "pygments_lexer": "ipython3",
   "version": "3.5.0"
  }
 },
 "nbformat": 4,
 "nbformat_minor": 2
}
